{
 "metadata": {
  "language_info": {
   "codemirror_mode": {
    "name": "ipython",
    "version": 3
   },
   "file_extension": ".py",
   "mimetype": "text/x-python",
   "name": "python",
   "nbconvert_exporter": "python",
   "pygments_lexer": "ipython3",
   "version": 3
  },
  "orig_nbformat": 2,
  "kernelspec": {
   "name": "python_defaultSpec_1595387423810",
   "display_name": "Python 3.7.7 64-bit ('cpuData': conda)"
  }
 },
 "nbformat": 4,
 "nbformat_minor": 2,
 "cells": [
  {
   "cell_type": "code",
   "execution_count": 1,
   "metadata": {},
   "outputs": [],
   "source": [
    "import numpy as numpy\n",
    "import pandas as pd\n",
    "import matplotlib.pyplot as plt\n",
    "%matplotlib inline\n",
    "\n",
    "from sklearn.feature_extraction.text import TfidfVectorizer"
   ]
  },
  {
   "cell_type": "code",
   "execution_count": 2,
   "metadata": {
    "tags": []
   },
   "outputs": [
    {
     "output_type": "stream",
     "name": "stdout",
     "text": "[[0.         0.46735098 0.         0.46735098 0.         0.46735098\n  0.         0.35543247 0.46735098]\n [0.         0.         0.79596054 0.         0.         0.\n  0.         0.60534851 0.        ]\n [0.57735027 0.         0.         0.         0.57735027 0.\n  0.57735027 0.         0.        ]]\n{'you': 7, 'know': 1, 'want': 5, 'your': 8, 'love': 3, 'like': 2, 'what': 6, 'should': 4, 'do': 0}\n"
    }
   ],
   "source": [
    "# morpheme_nltk\n",
    "# str(cpuData_KR['꼬꼬마'].values)[2:-3]\n",
    "# str(cpuData_ENG['nltk'].values)[2:-3]\n",
    "text_test = [\n",
    "    'you know I want your love',\n",
    "    'I like you',\n",
    "    'what should I do ',    \n",
    "]\n",
    "tf_idf_test = TfidfVectorizer().fit(text_test)\n",
    "print(tf_idf_test.transform(text_test).toarray())\n",
    "print(tf_idf_test.vocabulary_)\n",
    "# tf_idf_kr = TfidfVectorizer().fit(list(cpuData_KR['꼬꼬마']))#max_features = 100, max_df = 0.95, min_df = 0)\n",
    "# print(tf_idf_kr.transform(list(cpuData_KR['꼬꼬마'])).toarray())\n",
    "# print(tf_idf_kr.get_feature_names())"
   ]
  },
  {
   "cell_type": "code",
   "execution_count": null,
   "metadata": {},
   "outputs": [],
   "source": []
  }
 ]
}