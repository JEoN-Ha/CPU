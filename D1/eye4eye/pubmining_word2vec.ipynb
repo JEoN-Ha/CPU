{
 "cells": [
  {
   "cell_type": "code",
   "execution_count": 1,
   "metadata": {
    "scrolled": false
   },
   "outputs": [
    {
     "name": "stderr",
     "output_type": "stream",
     "text": [
      "C:\\ProgramData\\Anaconda3\\envs\\TensorFlow\\lib\\site-packages\\gensim\\utils.py:1197: UserWarning: detected Windows; aliasing chunkize to chunkize_serial\n",
      "  warnings.warn(\"detected Windows; aliasing chunkize to chunkize_serial\")\n",
      "C:\\ProgramData\\Anaconda3\\envs\\TensorFlow\\lib\\site-packages\\ipykernel_launcher.py:74: DeprecationWarning: Call to deprecated `__getitem__` (Method will be removed in 4.0.0, use self.wv.__getitem__() instead).\n"
     ]
    },
    {
     "name": "stdout",
     "output_type": "stream",
     "text": [
      "Wall time: 3min 20s\n"
     ]
    }
   ],
   "source": [
    "%%time\n",
    "\n",
    "import glob\n",
    "import pandas as pd\n",
    "import numpy as np\n",
    "from nltk.tokenize import RegexpTokenizer\n",
    "from gensim.models import Word2Vec\n",
    "from sklearn.decomposition import PCA\n",
    "\n",
    "def find_nth(strValue, strFind, intPos):\n",
    "    start = strValue.find(strFind)\n",
    "    while start >= 0 and intPos > 1:\n",
    "        start = strValue.find(strFind, start+len(strFind))\n",
    "        intPos -= 1\n",
    "    return start\n",
    "\n",
    "filelist = glob.glob('./Parkinson/*PubTator.txt')\n",
    "content = ''\n",
    "content_list = []\n",
    "documents = []\n",
    "\n",
    "for filename in filelist:\n",
    "\n",
    "    with open(filename, 'r') as infile:\n",
    "        content = infile.read()\n",
    "    \n",
    "    content_list = content.split('\\n\\n\\n')\n",
    "\n",
    "    for doc in content_list:\n",
    "\n",
    "        if not doc:\n",
    "            continue\n",
    "\n",
    "        lines = doc.split('\\n')\n",
    "        pmid = lines[0].split(\"|\")[0]\n",
    "\n",
    "        title = lines[0].split('|')\n",
    "        abstract = lines[1].split('|')\n",
    "\n",
    "        if (len(title) == 3):\n",
    "            title = title[-1]\n",
    "        else:\n",
    "            title = []\n",
    "        if (len(abstract) == 3):\n",
    "            abstract = abstract[-1]\n",
    "        else:\n",
    "            abstract = []\n",
    "\n",
    "        documents.append(''.join(title) + ' '+ ''.join(abstract))\n",
    "        \n",
    "'''\n",
    "is_noun = (lambda pos: pos[:2] == 'NN')\n",
    "is_nounp = (lambda pos: pos[:2] == 'NNP')\n",
    "'''\n",
    "#wpt = [nltk.word_tokenize(doc) for doc in documents]\n",
    "tokenizer = RegexpTokenizer(\"[\\w]+\")\n",
    "wpt = [tokenizer.tokenize(doc) for doc in documents]\n",
    "\n",
    "#tokenized_doc = [[word.lower() for (word, pos) in nltk.pos_tag(line)] for line in wpt]\n",
    "tokenized_doc = [[word.lower() for word in line] for line in wpt]\n",
    "\n",
    "# word2vec 계산\n",
    "num_features = 300             # 문자 벡터 차원 수\n",
    "min_word_count = 1             # 최소 문자 수\n",
    "num_workers = 4                # 병렬 처리 스레드 수\n",
    "context = 10                   # 문자열 창 크기\n",
    "downsampling = 1e-3            # 문자 빈도수 Downsample\n",
    "\n",
    "word2vec_model = Word2Vec(tokenized_doc, \n",
    "                          workers=num_workers, \n",
    "                          size=num_features, \n",
    "                          min_count=min_word_count, \n",
    "                          window=context, \n",
    "                          sample=downsampling) \n",
    "vocab = word2vec_model[word2vec_model.wv.vocab] \n",
    "word2vec_model.wv.save_word2vec_format('word2vec_pubtator.bin', binary = True) \n",
    "word2vec_model.init_sims(replace=True) # 메모리 초기화"
   ]
  },
  {
   "cell_type": "code",
   "execution_count": 3,
   "metadata": {},
   "outputs": [
    {
     "name": "stdout",
     "output_type": "stream",
     "text": [
      "{'seizures': ['epilepsy', 'myoclonic', 'myoclonus', 'convulsions', 'spasms', 'jerks', 'seizure', 'epileptic', 'spasticity', 'clonic', 'hypotonia', 'nystagmus', 'microcephaly', 'dysarthria', 'attacks', 'paroxysmal', 'episodes', 'hallucinations', 'delusions', 'hemiparesis', 'interictal', 'generalized', 'paralysis', 'tremors', 'hemiplegia', 'dystonic', 'convulsion', 'vertigo', 'discharges', 'headache', 'dyskinesia', 'choreoathetosis', 'apraxia', 'intractable', 'psychosis', 'areflexia', 'dysphagia', 'convulsive', 'dizziness', 'psychomotor', 'symptoms', 'cataplexy', 'headaches', 'tics', 'hyporeflexia', 'audiogenic', 'myokymia', 'dyskinesias', 'stereotypic', 'delirium', 'truncal', 'ptosis', 'ataxic', 'tachycardia', 'ophthalmoparesis', 'auras', 'hypotension', 'hyperkinetic', 'epilepsies', 'akinesia', 'hyperreflexia', 'gaze', 'gait', 'downbeat', 'weakness', 'disinhibition', 'movements', 'blindness', 'retinitis', 'syncope', 'disorientation', 'generalised', 'aggression', 'episodic', 'stridor', 'strokes', 'mutism', 'choreiform', 'pigmentosa', 'coma', 'epilepsia', 'nocturnal', 'spastic', 'facies', 'partialis', 'illness', 'speech', 'aura', 'amnesia', 'migraine', 'hypocalcemia', 'deafness', 'apathy', 'electroencephalography', 'irritability', 'signs', 'incoordination', 'akinetic', 'epileptiform', 'torticollis']}\n",
      "[('discharges', 0.5419394373893738), ('seizure', 0.5190399885177612), ('jerks', 0.4963708221912384), ('convulsions', 0.48403966426849365), ('dyskinesias', 0.4762449562549591), ('nystagmus', 0.47024890780448914), ('attacks', 0.4647420346736908), ('paralysis', 0.4542717933654785), ('hemiparesis', 0.44851556420326233), ('convulsion', 0.44415271282196045)]\n"
     ]
    },
    {
     "name": "stderr",
     "output_type": "stream",
     "text": [
      "C:\\ProgramData\\Anaconda3\\envs\\TensorFlow\\lib\\site-packages\\ipykernel_launcher.py:5: DeprecationWarning: Call to deprecated `most_similar` (Method will be removed in 4.0.0, use self.wv.most_similar() instead).\n",
      "  \"\"\"\n"
     ]
    }
   ],
   "source": [
    "similar_words = {search_term: [item[0] for item in word2vec_model.wv.most_similar([search_term], topn=100)]\n",
    "                  for search_term in ['seizures']}\n",
    "print(similar_words)\n",
    "\n",
    "print(word2vec_model.most_similar(positive=['seizures'], negative = ['wdr45'], topn = 10))"
   ]
  },
  {
   "cell_type": "code",
   "execution_count": null,
   "metadata": {},
   "outputs": [],
   "source": []
  }
 ],
 "metadata": {
  "kernelspec": {
   "display_name": "Python 3",
   "language": "python",
   "name": "python3"
  },
  "language_info": {
   "codemirror_mode": {
    "name": "ipython",
    "version": 3
   },
   "file_extension": ".py",
   "mimetype": "text/x-python",
   "name": "python",
   "nbconvert_exporter": "python",
   "pygments_lexer": "ipython3",
   "version": "3.6.6"
  }
 },
 "nbformat": 4,
 "nbformat_minor": 2
}
