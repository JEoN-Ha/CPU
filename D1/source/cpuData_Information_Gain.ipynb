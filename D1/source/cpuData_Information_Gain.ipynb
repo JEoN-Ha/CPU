{
 "metadata": {
  "language_info": {
   "codemirror_mode": {
    "name": "ipython",
    "version": 3
   },
   "file_extension": ".py",
   "mimetype": "text/x-python",
   "name": "python",
   "nbconvert_exporter": "python",
   "pygments_lexer": "ipython3",
   "version": 3
  },
  "orig_nbformat": 2,
  "kernelspec": {
   "name": "python_defaultSpec_1596160407797",
   "display_name": "Python 3.7.7 64-bit ('cpuData': conda)"
  }
 },
 "nbformat": 4,
 "nbformat_minor": 2,
 "cells": [
  {
   "cell_type": "code",
   "execution_count": 1,
   "metadata": {
    "tags": []
   },
   "outputs": [
    {
     "output_type": "stream",
     "name": "stdout",
     "text": "Wall time: 5.46 s\n"
    }
   ],
   "source": [
    "%%time\n",
    "import numpy as np\n",
    "import pandas as pd\n",
    "import matplotlib.pyplot as plt\n",
    "%matplotlib inline\n",
    "import re\n",
    "\n",
    "import openpyxl\n",
    "from sklearn.feature_extraction.text import TfidfVectorizer"
   ]
  },
  {
   "cell_type": "code",
   "execution_count": 2,
   "metadata": {
    "tags": []
   },
   "outputs": [
    {
     "output_type": "stream",
     "name": "stdout",
     "text": "Wall time: 1.53 s\n"
    }
   ],
   "source": [
    "%%time\n",
    "cpuData_morph_KR = pd.read_csv('./NN_KR.csv')\n",
    "cpuData_morph_ENG = pd.read_csv('./NN_ENG.csv')"
   ]
  },
  {
   "cell_type": "code",
   "execution_count": 3,
   "metadata": {},
   "outputs": [
    {
     "output_type": "execute_result",
     "data": {
      "text/plain": "      Unnamed: 0         0          1               2            3  \\\n0              0    system     method    intervention       system   \n1              1    System     method           trash   compactors   \n2              2  Activity   monitors        activity      monitor   \n3              3   Feature      point  identification       method   \n4              4   Systems    methods       customers       vision   \n...          ...       ...        ...             ...          ...   \n9434        9434   Methods    devices          stress         Easy   \n9435        9435   Digital     remote           radio   monitoring   \n9436        9436    system     method        organism  information   \n9437        9437  evidence     module          patent       refers   \n9438        9438     radio  frequency  identification      sensors   \n\n                        4             5             6        7              8  \\\n0                  method  intervention      activity  monitor        patient   \n1             receptacles       Systems       methods  storage          media   \n2                    user    activities      activity  monitor         motion   \n3     mechanocardiography             A        method  feature         points   \n4                     eye        health  examinations  Systems        methods   \n...                   ...           ...           ...      ...            ...   \n9434              methods       devices        stress  thereby      disorders   \n9435               system        patent        refers    field        methods   \n9436              PROBLEM            TO            BE   SOLVED         health   \n9437                field       methods     invention     sign         module   \n9438         applications        patent        refers    field  'transmission   \n\n      ...  658  659  660  661  662  663  664  665  666  667  \n0     ...  NaN  NaN  NaN  NaN  NaN  NaN  NaN  NaN  NaN  NaN  \n1     ...  NaN  NaN  NaN  NaN  NaN  NaN  NaN  NaN  NaN  NaN  \n2     ...  NaN  NaN  NaN  NaN  NaN  NaN  NaN  NaN  NaN  NaN  \n3     ...  NaN  NaN  NaN  NaN  NaN  NaN  NaN  NaN  NaN  NaN  \n4     ...  NaN  NaN  NaN  NaN  NaN  NaN  NaN  NaN  NaN  NaN  \n...   ...  ...  ...  ...  ...  ...  ...  ...  ...  ...  ...  \n9434  ...  NaN  NaN  NaN  NaN  NaN  NaN  NaN  NaN  NaN  NaN  \n9435  ...  NaN  NaN  NaN  NaN  NaN  NaN  NaN  NaN  NaN  NaN  \n9436  ...  NaN  NaN  NaN  NaN  NaN  NaN  NaN  NaN  NaN  NaN  \n9437  ...  NaN  NaN  NaN  NaN  NaN  NaN  NaN  NaN  NaN  NaN  \n9438  ...  NaN  NaN  NaN  NaN  NaN  NaN  NaN  NaN  NaN  NaN  \n\n[9439 rows x 669 columns]",
      "text/html": "<div>\n<style scoped>\n    .dataframe tbody tr th:only-of-type {\n        vertical-align: middle;\n    }\n\n    .dataframe tbody tr th {\n        vertical-align: top;\n    }\n\n    .dataframe thead th {\n        text-align: right;\n    }\n</style>\n<table border=\"1\" class=\"dataframe\">\n  <thead>\n    <tr style=\"text-align: right;\">\n      <th></th>\n      <th>Unnamed: 0</th>\n      <th>0</th>\n      <th>1</th>\n      <th>2</th>\n      <th>3</th>\n      <th>4</th>\n      <th>5</th>\n      <th>6</th>\n      <th>7</th>\n      <th>8</th>\n      <th>...</th>\n      <th>658</th>\n      <th>659</th>\n      <th>660</th>\n      <th>661</th>\n      <th>662</th>\n      <th>663</th>\n      <th>664</th>\n      <th>665</th>\n      <th>666</th>\n      <th>667</th>\n    </tr>\n  </thead>\n  <tbody>\n    <tr>\n      <th>0</th>\n      <td>0</td>\n      <td>system</td>\n      <td>method</td>\n      <td>intervention</td>\n      <td>system</td>\n      <td>method</td>\n      <td>intervention</td>\n      <td>activity</td>\n      <td>monitor</td>\n      <td>patient</td>\n      <td>...</td>\n      <td>NaN</td>\n      <td>NaN</td>\n      <td>NaN</td>\n      <td>NaN</td>\n      <td>NaN</td>\n      <td>NaN</td>\n      <td>NaN</td>\n      <td>NaN</td>\n      <td>NaN</td>\n      <td>NaN</td>\n    </tr>\n    <tr>\n      <th>1</th>\n      <td>1</td>\n      <td>System</td>\n      <td>method</td>\n      <td>trash</td>\n      <td>compactors</td>\n      <td>receptacles</td>\n      <td>Systems</td>\n      <td>methods</td>\n      <td>storage</td>\n      <td>media</td>\n      <td>...</td>\n      <td>NaN</td>\n      <td>NaN</td>\n      <td>NaN</td>\n      <td>NaN</td>\n      <td>NaN</td>\n      <td>NaN</td>\n      <td>NaN</td>\n      <td>NaN</td>\n      <td>NaN</td>\n      <td>NaN</td>\n    </tr>\n    <tr>\n      <th>2</th>\n      <td>2</td>\n      <td>Activity</td>\n      <td>monitors</td>\n      <td>activity</td>\n      <td>monitor</td>\n      <td>user</td>\n      <td>activities</td>\n      <td>activity</td>\n      <td>monitor</td>\n      <td>motion</td>\n      <td>...</td>\n      <td>NaN</td>\n      <td>NaN</td>\n      <td>NaN</td>\n      <td>NaN</td>\n      <td>NaN</td>\n      <td>NaN</td>\n      <td>NaN</td>\n      <td>NaN</td>\n      <td>NaN</td>\n      <td>NaN</td>\n    </tr>\n    <tr>\n      <th>3</th>\n      <td>3</td>\n      <td>Feature</td>\n      <td>point</td>\n      <td>identification</td>\n      <td>method</td>\n      <td>mechanocardiography</td>\n      <td>A</td>\n      <td>method</td>\n      <td>feature</td>\n      <td>points</td>\n      <td>...</td>\n      <td>NaN</td>\n      <td>NaN</td>\n      <td>NaN</td>\n      <td>NaN</td>\n      <td>NaN</td>\n      <td>NaN</td>\n      <td>NaN</td>\n      <td>NaN</td>\n      <td>NaN</td>\n      <td>NaN</td>\n    </tr>\n    <tr>\n      <th>4</th>\n      <td>4</td>\n      <td>Systems</td>\n      <td>methods</td>\n      <td>customers</td>\n      <td>vision</td>\n      <td>eye</td>\n      <td>health</td>\n      <td>examinations</td>\n      <td>Systems</td>\n      <td>methods</td>\n      <td>...</td>\n      <td>NaN</td>\n      <td>NaN</td>\n      <td>NaN</td>\n      <td>NaN</td>\n      <td>NaN</td>\n      <td>NaN</td>\n      <td>NaN</td>\n      <td>NaN</td>\n      <td>NaN</td>\n      <td>NaN</td>\n    </tr>\n    <tr>\n      <th>...</th>\n      <td>...</td>\n      <td>...</td>\n      <td>...</td>\n      <td>...</td>\n      <td>...</td>\n      <td>...</td>\n      <td>...</td>\n      <td>...</td>\n      <td>...</td>\n      <td>...</td>\n      <td>...</td>\n      <td>...</td>\n      <td>...</td>\n      <td>...</td>\n      <td>...</td>\n      <td>...</td>\n      <td>...</td>\n      <td>...</td>\n      <td>...</td>\n      <td>...</td>\n      <td>...</td>\n    </tr>\n    <tr>\n      <th>9434</th>\n      <td>9434</td>\n      <td>Methods</td>\n      <td>devices</td>\n      <td>stress</td>\n      <td>Easy</td>\n      <td>methods</td>\n      <td>devices</td>\n      <td>stress</td>\n      <td>thereby</td>\n      <td>disorders</td>\n      <td>...</td>\n      <td>NaN</td>\n      <td>NaN</td>\n      <td>NaN</td>\n      <td>NaN</td>\n      <td>NaN</td>\n      <td>NaN</td>\n      <td>NaN</td>\n      <td>NaN</td>\n      <td>NaN</td>\n      <td>NaN</td>\n    </tr>\n    <tr>\n      <th>9435</th>\n      <td>9435</td>\n      <td>Digital</td>\n      <td>remote</td>\n      <td>radio</td>\n      <td>monitoring</td>\n      <td>system</td>\n      <td>patent</td>\n      <td>refers</td>\n      <td>field</td>\n      <td>methods</td>\n      <td>...</td>\n      <td>NaN</td>\n      <td>NaN</td>\n      <td>NaN</td>\n      <td>NaN</td>\n      <td>NaN</td>\n      <td>NaN</td>\n      <td>NaN</td>\n      <td>NaN</td>\n      <td>NaN</td>\n      <td>NaN</td>\n    </tr>\n    <tr>\n      <th>9436</th>\n      <td>9436</td>\n      <td>system</td>\n      <td>method</td>\n      <td>organism</td>\n      <td>information</td>\n      <td>PROBLEM</td>\n      <td>TO</td>\n      <td>BE</td>\n      <td>SOLVED</td>\n      <td>health</td>\n      <td>...</td>\n      <td>NaN</td>\n      <td>NaN</td>\n      <td>NaN</td>\n      <td>NaN</td>\n      <td>NaN</td>\n      <td>NaN</td>\n      <td>NaN</td>\n      <td>NaN</td>\n      <td>NaN</td>\n      <td>NaN</td>\n    </tr>\n    <tr>\n      <th>9437</th>\n      <td>9437</td>\n      <td>evidence</td>\n      <td>module</td>\n      <td>patent</td>\n      <td>refers</td>\n      <td>field</td>\n      <td>methods</td>\n      <td>invention</td>\n      <td>sign</td>\n      <td>module</td>\n      <td>...</td>\n      <td>NaN</td>\n      <td>NaN</td>\n      <td>NaN</td>\n      <td>NaN</td>\n      <td>NaN</td>\n      <td>NaN</td>\n      <td>NaN</td>\n      <td>NaN</td>\n      <td>NaN</td>\n      <td>NaN</td>\n    </tr>\n    <tr>\n      <th>9438</th>\n      <td>9438</td>\n      <td>radio</td>\n      <td>frequency</td>\n      <td>identification</td>\n      <td>sensors</td>\n      <td>applications</td>\n      <td>patent</td>\n      <td>refers</td>\n      <td>field</td>\n      <td>'transmission</td>\n      <td>...</td>\n      <td>NaN</td>\n      <td>NaN</td>\n      <td>NaN</td>\n      <td>NaN</td>\n      <td>NaN</td>\n      <td>NaN</td>\n      <td>NaN</td>\n      <td>NaN</td>\n      <td>NaN</td>\n      <td>NaN</td>\n    </tr>\n  </tbody>\n</table>\n<p>9439 rows × 669 columns</p>\n</div>"
     },
     "metadata": {},
     "execution_count": 3
    }
   ],
   "source": [
    "cpuData_morph_ENG"
   ]
  },
  {
   "cell_type": "code",
   "execution_count": 4,
   "metadata": {
    "tags": []
   },
   "outputs": [
    {
     "output_type": "stream",
     "name": "stdout",
     "text": "Wall time: 1.52 s\n"
    }
   ],
   "source": [
    "%%time\n",
    "cpuData_csv = pd.read_csv('./cpuDataSet.csv',  encoding = 'CP949')"
   ]
  },
  {
   "cell_type": "code",
   "execution_count": 5,
   "metadata": {
    "tags": []
   },
   "outputs": [
    {
     "output_type": "stream",
     "name": "stdout",
     "text": "Wall time: 3.21 s\n"
    }
   ],
   "source": [
    "%%time\n",
    "for i in range(len(cpuData_csv['대표청구항'])):\n",
    "    cpuData_csv['대표청구항'][i] = cpuData_csv['대표청구항'][i][9:]\n",
    "# cpuData_csv['대표청구항']\n",
    "for i in range(len(cpuData_csv['발명의 명칭'])):\n",
    "    cpuData_csv['발명의 명칭'][i] = re.sub(r'\\([^)]*\\)', '', cpuData_csv['발명의 명칭'][i])\n",
    "cpuData_KR = cpuData_csv[cpuData_csv['국가코드'].isin(['KR']) | cpuData_csv['국가코드'].isin(['JP'])]\n",
    "cpuData_ENG = cpuData_csv[cpuData_csv['국가코드'].isin(['CN']) | cpuData_csv['국가코드'].isin(['EP']) | cpuData_csv['국가코드'].isin(['US'])]"
   ]
  },
  {
   "cell_type": "code",
   "execution_count": 6,
   "metadata": {
    "tags": []
   },
   "outputs": [
    {
     "output_type": "stream",
     "name": "stdout",
     "text": "Wall time: 86 ms\n"
    }
   ],
   "source": [
    "%%time\n",
    "cpuData_KR['꼬꼬마'] = cpuData_KR['발명의 명칭'] + ' ' + cpuData_KR['요약'] + cpuData_KR['대표청구항']\n",
    "# cpuData_csv['꼬꼬마'] = cpuData_csv['발명의 명칭'][:6887] + ' ' + cpuData_csv['요약'][:6887] + cpuData_csv['대표청구항'][:6887]\n",
    "# cpuData_csv['꼬꼬마'].drop(cpuData_csv['꼬꼬마'].index[6887:]) # 영어부분 삭제\n",
    "\n",
    "\n",
    "# # cpuData_csv['nltk'] = cpuData_csv['발명의 명칭'][6887:] + ' ' + cpuData_csv['요약'][6887:] + cpuData_csv['대표청구항'][6887:]\n",
    "# cpuData_csv['nltk'].drop(cpuData_csv['nltk'].index[:6887]) # 한글부분 삭제\n",
    "cpuData_ENG['nltk'] = cpuData_ENG['발명의 명칭'] + ' ' + cpuData_ENG['요약'] + cpuData_ENG['대표청구항']"
   ]
  },
  {
   "cell_type": "code",
   "execution_count": 7,
   "metadata": {
    "tags": []
   },
   "outputs": [
    {
     "output_type": "stream",
     "name": "stdout",
     "text": "Wall time: 2 ms\n"
    }
   ],
   "source": [
    "%%time\n",
    "IPC_Number = [ipc[0:4] for ipc in cpuData_csv['메인 IPC'].values]\n",
    "Unique_IPC_Number = list(set(IPC_Number))"
   ]
  },
  {
   "cell_type": "code",
   "execution_count": 8,
   "metadata": {
    "tags": []
   },
   "outputs": [
    {
     "output_type": "stream",
     "name": "stdout",
     "text": "Wall time: 27 ms\n"
    }
   ],
   "source": [
    "%%time\n",
    "IPC_Probability = []\n",
    "for u in Unique_IPC_Number:\n",
    "    IPC_Probability.append((u, (IPC_Number.count(u) / len(IPC_Number))))"
   ]
  },
  {
   "cell_type": "code",
   "execution_count": 9,
   "metadata": {
    "tags": []
   },
   "outputs": [
    {
     "output_type": "stream",
     "name": "stdout",
     "text": "Wall time: 2.34 s\n"
    }
   ],
   "source": [
    "%%time\n",
    "cpuData_morph_list_KR = []\n",
    "cpuData_morph_cleaned_list_KR = []\n",
    "for i in range(len(cpuData_morph_KR)):\n",
    "    cpuData_morph_list_KR.append(cpuData_morph_KR.iloc[i][1:].tolist())\n",
    "for i in range(len(cpuData_morph_list_KR)):\n",
    "    cpuData_morph_cleaned_list_KR.append([x for x in cpuData_morph_list_KR[i] if str(x) != 'nan'])"
   ]
  },
  {
   "cell_type": "code",
   "execution_count": 10,
   "metadata": {
    "tags": []
   },
   "outputs": [
    {
     "output_type": "stream",
     "name": "stdout",
     "text": "Wall time: 5.74 s\n"
    }
   ],
   "source": [
    "%%time\n",
    "cpuData_morph_list_ENG = []\n",
    "cpuData_morph_cleaned_list_ENG = []\n",
    "for i in range(len(cpuData_morph_ENG)):\n",
    "    cpuData_morph_list_ENG.append(cpuData_morph_ENG.iloc[i][1:].tolist())\n",
    "for i in range(len(cpuData_morph_list_ENG)):\n",
    "    cpuData_morph_cleaned_list_ENG.append([x for x in cpuData_morph_list_ENG[i] if str(x) != 'nan'])"
   ]
  },
  {
   "cell_type": "code",
   "execution_count": 11,
   "metadata": {
    "tags": []
   },
   "outputs": [],
   "source": [
    "# %%time\n",
    "\n",
    "# for ipc, P_c in IPC_Probability:\n",
    "#     first_term = first_term + (P_c * np.log2(P_c))\n",
    "# first_term = first_term * -1\n",
    "# first_term"
   ]
  },
  {
   "cell_type": "code",
   "execution_count": 12,
   "metadata": {},
   "outputs": [],
   "source": [
    "# %%time\n",
    "# cpuData_list = []\n",
    "# for i in range(len(cpuData_morph_cleaned_list_KR)):\n",
    "#     cpuData_list = cpuData_list + cpuData_morph_cleaned_list_KR[i]\n",
    "# for i in range(len(cpuData_morph_cleaned_list_ENG)):\n",
    "#     cpuData_list = cpuData_list + cpuData_morph_cleaned_list_ENG\n",
    "# cpuData_list"
   ]
  },
  {
   "cell_type": "code",
   "execution_count": 13,
   "metadata": {
    "tags": []
   },
   "outputs": [
    {
     "output_type": "stream",
     "name": "stdout",
     "text": "Wall time: 8 ms\n"
    }
   ],
   "source": [
    "%%time\n",
    "cpuDF_KR = pd.DataFrame()\n",
    "cpuDF_KR['Data'] = cpuData_KR['꼬꼬마']\n",
    "cpuDF_KR['IPC'] = cpuData_KR['메인 IPC']"
   ]
  },
  {
   "cell_type": "code",
   "execution_count": 24,
   "metadata": {
    "tags": []
   },
   "outputs": [
    {
     "output_type": "execute_result",
     "data": {
      "text/plain": "532724"
     },
     "metadata": {},
     "execution_count": 24
    }
   ],
   "source": [
    "All_nouns_KR = 0\n",
    "for i in range(len(cpuData_morph_cleaned_list_KR)):\n",
    "    All_nouns_KR += len(cpuData_morph_cleaned_list_KR[i])\n",
    "All_nouns_KR"
   ]
  },
  {
   "cell_type": "code",
   "execution_count": 29,
   "metadata": {
    "tags": []
   },
   "outputs": [
    {
     "output_type": "error",
     "ename": "KeyboardInterrupt",
     "evalue": "",
     "traceback": [
      "\u001b[1;31m---------------------------------------------------------------------------\u001b[0m",
      "\u001b[1;31mKeyboardInterrupt\u001b[0m                         Traceback (most recent call last)",
      "\u001b[1;32m<timed exec>\u001b[0m in \u001b[0;36m<module>\u001b[1;34m\u001b[0m\n",
      "\u001b[1;31mKeyboardInterrupt\u001b[0m: "
     ]
    }
   ],
   "source": [
    "%%time\n",
    "result_KR = []\n",
    "for rows, AllDocument in enumerate(cpuData_morph_cleaned_list_KR):\n",
    "    for t in AllDocument:\n",
    "        # for t in Document:\n",
    "        count_t_of_all = str(cpuData_morph_cleaned_list_KR).count(t) # 전체 문서에서 단어 t의 수\n",
    "        if count_t_of_all == 0:\n",
    "            count_t_of_all = 1\n",
    "        P_t = count_t_of_all / All_nouns_KR # (len(cpuData_morph_cleaned_list_KR) + len(cpuData_morph_cleaned_list_ENG)) # 전체 문서에서 단어 t의 확률\n",
    "        p_not_t = 1 - P_t # 전체 문서에서 단어 t가 아닌 확률\n",
    "        sum_of_p_conditional_c_and_t = 0 # 조건부확률 P(c|t)의 합을 담을 공간\n",
    "        sum_of_p_conditional_c_and_not_t = 0 # 조건부확률 P(c| not t)의 합을 담을 공간\n",
    "        first_term = 0 # 첫째 항\n",
    "        for ipc, P_c in IPC_Probability:\n",
    "            if ipc == cpuDF_KR.iloc[rows,1][0:4]: # IPC가 같으면\n",
    "\n",
    "                c_and_t = cpuDF_KR.iloc[rows,0].count(t) # 해당하는 IPC에 대한 단어 t의 수\n",
    "                p_conditional_c_and_t = c_and_t / count_t_of_all # 해당하는 IPC에 대한 문서에서 단어 t의 수 / 전체 문서에서 단어 t의 수\n",
    "                sum_of_p_conditional_c_and_t += (p_conditional_c_and_t * np.log2(p_conditional_c_and_t)) # 조건부확률의 합 P(c|t) * log(P(c|t))\n",
    "\n",
    "                c_and_not_t = len(AllDocument) - cpuDF_KR.iloc[rows,0].count(t)   # 문서 전체 단어 수에서 단어 t의 수를 뺌\n",
    "                p_conditional_c_and_not_t = c_and_not_t / count_t_of_all    # P(c| not t)를 구함\n",
    "                sum_of_p_conditional_c_and_not_t += (p_conditional_c_and_not_t * np.log2(p_conditional_c_and_not_t)) # P(c| not t) * log(P(c| not t))\n",
    "\n",
    "            first_term = first_term + (P_c * np.log2(P_c))\n",
    "        result_KR.append((t, (-1 * first_term) + (P_t * sum_of_p_conditional_c_and_t) + (p_not_t * sum_of_p_conditional_c_and_not_t)))\n",
    "        "
   ]
  },
  {
   "cell_type": "code",
   "execution_count": null,
   "metadata": {
    "tags": []
   },
   "outputs": [],
   "source": [
    "%%time\n",
    "if len(result_KR) == 0:\n",
    "    pass\n",
    "else:\n",
    "    result_df_KR = pd.DataFrame.from_records(result_KR)\n",
    "    result_df_KR.to_csv('IG_KR.csv')\n",
    "    result_df_KR.to_excel('IG_KR.xlsx')"
   ]
  },
  {
   "cell_type": "code",
   "execution_count": 15,
   "metadata": {
    "tags": []
   },
   "outputs": [
    {
     "output_type": "stream",
     "name": "stdout",
     "text": "Wall time: 3.98 ms\n"
    }
   ],
   "source": [
    "%%time\n",
    "cpuDF_ENG = pd.DataFrame()\n",
    "cpuDF_ENG['Data'] = cpuData_ENG['nltk']\n",
    "cpuDF_ENG['IPC'] = cpuData_ENG['메인 IPC']"
   ]
  },
  {
   "cell_type": "code",
   "execution_count": 16,
   "metadata": {
    "tags": []
   },
   "outputs": [
    {
     "output_type": "error",
     "ename": "ZeroDivisionError",
     "evalue": "division by zero",
     "traceback": [
      "\u001b[1;31m---------------------------------------------------------------------------\u001b[0m",
      "\u001b[1;31mZeroDivisionError\u001b[0m                         Traceback (most recent call last)",
      "\u001b[1;32m<timed exec>\u001b[0m in \u001b[0;36m<module>\u001b[1;34m\u001b[0m\n",
      "\u001b[1;31mZeroDivisionError\u001b[0m: division by zero"
     ]
    }
   ],
   "source": [
    "%%time\n",
    "result_ENG = []\n",
    "for rows, Document in enumerate(cpuData_morph_cleaned_list_ENG):\n",
    "    for t in Document:\n",
    "        count_t_of_all = str(cpuData_morph_cleaned_list_ENG).count(t) # 전체 문서에서 단어 t의 수\n",
    "        P_t = count_t_of_all / (len(cpuData_morph_cleaned_list_KR) + len(cpuData_morph_cleaned_list_ENG)) # 전체 문서에서 단어 t의 확률\n",
    "        p_not_t = 1 - P_t # 전체 문서에서 단어 t가 아닌 확률\n",
    "        sum_of_p_conditional_c_and_t = 0 # 조건부확률 P(c|t)의 합을 담을 공간\n",
    "        sum_of_p_conditional_c_and_not_t = 0 # 조건부확률 P(c| not t)의 합을 담을 공간\n",
    "        first_term = 0 # 첫째 항\n",
    "        for ipc, P_c in IPC_Probability:\n",
    "            if ipc == cpuDF_ENG.iloc[rows,1][0:4]: # IPC가 같으면\n",
    "\n",
    "                c_and_t = cpuDF_ENG.iloc[rows,0].count(t) # 해당하는 IPC에 대한 단어 t의 수\n",
    "                p_conditional_c_and_t = c_and_t / count_t_of_all # 해당하는 IPC에 대한 문서에서 단어 t의 수 / 전체 문서에서 단어 t의 수\n",
    "                sum_of_p_conditional_c_and_t += (p_conditional_c_and_t * np.log2(p_conditional_c_and_t)) # 조건부확률의 합 P(c|t) * log(P(c|t))\n",
    "\n",
    "                c_and_not_t = len(Document) - cpuDF_ENG.iloc[rows,0].count(t)   # 문서 전체 단어 수에서 단어 t의 수를 뺌\n",
    "                p_conditional_c_and_not_t = c_and_not_t / count_t_of_all    # P(c| not t)를 구함\n",
    "                sum_of_p_conditional_c_and_not_t += (p_conditional_c_and_not_t * np.log2(p_conditional_c_and_not_t)) # P(c| not t) * log(P(c| not t))\n",
    "\n",
    "            first_term = first_term + (P_c * np.log2(P_c))\n",
    "        result_ENG.append((t, (-1 * first_term) + (P_t * sum_of_p_conditional_c_and_t) + (p_not_t * sum_of_p_conditional_c_and_not_t)))\n",
    "        "
   ]
  },
  {
   "cell_type": "code",
   "execution_count": 17,
   "metadata": {
    "tags": []
   },
   "outputs": [
    {
     "output_type": "stream",
     "name": "stdout",
     "text": "Wall time: 46 ms\n"
    }
   ],
   "source": [
    "%%time\n",
    "if len(result_KR) == 0:\n",
    "    pass\n",
    "else:\n",
    "    result_df_ENG = pd.DataFrame.from_records(result_ENG)\n",
    "    result_df_ENG.to_csv('IG_ENG.csv')\n",
    "    result_df_ENG.to_excel('IG_ENG.xlsx')"
   ]
  }
 ]
}