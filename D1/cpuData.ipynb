{
 "cells": [
  {
   "cell_type": "code",
   "execution_count": 6,
   "metadata": {},
   "outputs": [],
   "source": [
    "import numpy as np\n",
    "import pandas as pd\n",
    "import matplotlib.pyplot as plt\n",
    "%matplotlib inline"
   ]
  },
  {
   "cell_type": "code",
   "execution_count": 13,
   "metadata": {},
   "outputs": [
    {
     "name": "stderr",
     "output_type": "stream",
     "text": [
      "c:\\users\\assistant_2\\anaconda3\\envs\\cpudata\\lib\\site-packages\\IPython\\core\\interactiveshell.py:3063: DtypeWarning: Columns (35,61,62,66) have mixed types.Specify dtype option on import or set low_memory=False.\n",
      "  interactivity=interactivity, compiler=compiler, result=result)\n"
     ]
    }
   ],
   "source": [
    "cpuData_csv = pd.read_csv('./cpuDataSet.csv',  encoding = 'CP949')\n",
    "#cpuData_excel = pd.read_excel('./cpuData.xlsx', encoding = 'CP949')"
   ]
  },
  {
   "cell_type": "code",
   "execution_count": 14,
   "metadata": {},
   "outputs": [
    {
     "name": "stdout",
     "output_type": "stream",
     "text": [
      "<class 'pandas.core.frame.DataFrame'>\n",
      "RangeIndex: 11827 entries, 0 to 11826\n",
      "Data columns (total 68 columns):\n",
      " #   Column            Non-Null Count  Dtype \n",
      "---  ------            --------------  ----- \n",
      " 0   No.               11827 non-null  int64 \n",
      " 1   국가코드              11827 non-null  object\n",
      " 2   발명의 명칭            11827 non-null  object\n",
      " 3   요약                11827 non-null  object\n",
      " 4   독립항               11827 non-null  object\n",
      " 5   출원인               11827 non-null  object\n",
      " 6   발명자               11827 non-null  object\n",
      " 7   문헌종류 코드           11827 non-null  object\n",
      " 8   출원번호              11827 non-null  object\n",
      " 9   출원일               11827 non-null  object\n",
      " 10  등록번호              11827 non-null  object\n",
      " 11  메인 IPC            11827 non-null  object\n",
      " 12  우선권 국가            11827 non-null  object\n",
      " 13  우선권 번호            11827 non-null  object\n",
      " 14  우선권 주장일           11827 non-null  object\n",
      " 15  특허/실용구분           11827 non-null  object\n",
      " 16  대표청구항             11827 non-null  object\n",
      " 17  요약(원문)            11827 non-null  object\n",
      " 18  청구항 수             11827 non-null  object\n",
      " 19  법적상태              11827 non-null  object\n",
      " 20  심사청구여부(KR,JP,EP)  11827 non-null  object\n",
      " 21  심사진행상태            11827 non-null  object\n",
      " 22  출원인 국적            11827 non-null  object\n",
      " 23  현재권리자             11827 non-null  object\n",
      " 24  현재권리자 국적          11827 non-null  object\n",
      " 25  발명자(원문)           11827 non-null  object\n",
      " 26  발명자 국적            11827 non-null  object\n",
      " 27  대리인               11827 non-null  object\n",
      " 28  공개번호              11827 non-null  object\n",
      " 29  공개일               11827 non-null  object\n",
      " 30  등록일               11827 non-null  object\n",
      " 31  심사청구일(KR,JP,EP)   11827 non-null  object\n",
      " 32  존속기간 만료일          11827 non-null  object\n",
      " 33  원출원번호             11827 non-null  object\n",
      " 34  원출원일자             11827 non-null  object\n",
      " 35  공개/등록번호           11827 non-null  object\n",
      " 36  공개/등록일자           11827 non-null  object\n",
      " 37  전체 IPC            11827 non-null  object\n",
      " 38  메인 CPC            11827 non-null  object\n",
      " 39  전체 CPC            11827 non-null  object\n",
      " 40  FI (File Index)   11827 non-null  object\n",
      " 41  메인 US Class       11827 non-null  object\n",
      " 42  전체 US Class       11827 non-null  object\n",
      " 43  테마코드(JP)          11827 non-null  object\n",
      " 44  F-Term(JP)        11827 non-null  object\n",
      " 45  최우선일              11827 non-null  object\n",
      " 46  국제출원번호            11827 non-null  object\n",
      " 47  국제출원일             11827 non-null  object\n",
      " 48  국제공개번호            11827 non-null  object\n",
      " 49  국제공개일             11827 non-null  object\n",
      " 50  번역문제출일(KR)        11827 non-null  object\n",
      " 51  인용문헌번호            11827 non-null  object\n",
      " 52  인용문헌수             11827 non-null  object\n",
      " 53  국가별 인용문헌수         11827 non-null  object\n",
      " 54  인용문헌국가            11827 non-null  object\n",
      " 55  자국인용문헌번호          11827 non-null  object\n",
      " 56  심사관인용문헌(KR,US)    11827 non-null  object\n",
      " 57  피인용문헌번호           11827 non-null  object\n",
      " 58  피인용문헌수            11827 non-null  object\n",
      " 59  국가별 피인용문헌수        11827 non-null  object\n",
      " 60  피인용문헌국가           11827 non-null  object\n",
      " 61  패밀리 국가수           11827 non-null  object\n",
      " 62  패밀리 문헌수           11827 non-null  object\n",
      " 63  패밀리 문헌번호          11827 non-null  object\n",
      " 64  패밀리 국가별 문헌수       11827 non-null  object\n",
      " 65  EPO심플패밀리 문헌번호     11827 non-null  object\n",
      " 66  EPO심플패밀리 문헌수      11827 non-null  object\n",
      " 67  EPO심플패밀리 국가별 문헌수  11827 non-null  object\n",
      "dtypes: int64(1), object(67)\n",
      "memory usage: 6.1+ MB\n"
     ]
    }
   ],
   "source": [
    "cpuData.info()"
   ]
  },
  {
   "cell_type": "code",
   "execution_count": 19,
   "metadata": {},
   "outputs": [
    {
     "data": {
      "text/plain": [
       "'Iot를 기반 스마트 센서를 포함하는 환자 상태 실시간 정보 전송 시스템(real-time information transmission system to patient status including smart sensor based on internet of things) 본 발명은 IoT를 기반 스마트 센서를 포함하는 환자 상태 실시간 정보 전송 시스템에 관한 것이다. 보다 구체적으로, 지능형 인지 프레임워크를 사용하여 환자 상태 모니터링 및 헬스 케어가 가능하도록 스마트 센서 연결 계층 구조와 서비스 연결되어 웹 서비스에서 상기 스마트 센서에 대한 실시간 반응하는 IoT 브로커를 통해 정형화된 센싱 데이터, 멀티 프로토콜 자동 선택이 가능하도록 응급 수송차량에 의료장비 통신모듈이 구비된 IoT를 기반 스마트 센서를 포함하는 환자 상태 실시간 정보 전송 시스템에 관한 것이다. 본 발명에 따른 IoT를 기반 스마트 센서를 포함하는 환자 상태 실시간 정보 전송 시스템은, 센서 연결 계층 구조와 서비스 연결되어 웹 서비스에서 센서에 대한 실시간 반응하는 IoT 브로커를 통해 정형화된 센싱 데이터, 멀티 프로토콜 자동 선택이 가능하도록 응급 수송차량에 의료장비 통신 모듈을 통해 지능형 인지 프레임워크를 사용하여 환자 상태 모니터링 및 헬스케어가 가능한 효과를 제공할 수 있다. 또한, 본 발명에 따른 IoT를 기반 스마트 센서를 포함하는 환자 상태 실시간 정보 전송 시스템은, 응급 수송차량에 의료장비에 설치할 수 있는 통신 모듈을 통해 실시간 응급환자의 상태 체크, 응급처치가 가능하고 응급 차량 내에서 환자의 바이탈 신호를 의료진에게 신속히 전송할 수 있고, 상황 인지 프레임워크와 개방형 서비스 플랫폼을 사용하여 환자의 상황을 의료진의 판단과 함께 시스템에서 위험도를 예측하여 사전 예방 조치를 취할 수 있는 효과를 제공할 수 있다. [청구항1]\\n IoT를 기반 스마트 센서를 포함하는 환자 상태 실시간 정보 전송 시스템에 있어서,\\n상기 시스템은 웹 서비스에서 센서에 대한 정확성을 제공하고 정형화된 센싱 데이터 및 명령어 제공, 멀티 프로토콜 자동 선택과 처리가 가능하여 센서 및 제어기 연동이 가능하여 보안 및 안정성 강화를 제공되는 IoT 브로커; 및\\n센서노드와 무선으로 연동되어, 센서노드에서 전송되는 정형화된 센싱데이터 및 명령어를 IoT 응용 서비스로 멀티 프로토콜 자동 선택 및 처리를 통해 보안 및 프라이버시 강화하여 환자 상태 판단시 지능형 인지 프레임워크를 사용하여 환자 상태 모니터링 및 헬스케어가 가능하도록 센서 연결 계층 구조와 서비스 연결되어 웹 서비스에서 센서에 대한 실시간 반응하는 IoT 브로커를 통해 정형화된 센싱 데이터, 멀티 프로토콜 자동 선택이 가능하도록 제어부를 포함하는 것을 특징으로 하는 IoT를 기반 스마트 센서를 포함하는 환자 상태 실시간 정보 전송 시스템.'"
      ]
     },
     "execution_count": 19,
     "metadata": {},
     "output_type": "execute_result"
    }
   ],
   "source": [
    "cpuData['명사'] = cpuData['발명의 명칭'] + ' ' + cpuData['요약'] + ' ' + cpuData['대표청구항']\n",
    "cpuData['명사'][0]"
   ]
  },
  {
   "cell_type": "code",
   "execution_count": 17,
   "metadata": {},
   "outputs": [
    {
     "name": "stdout",
     "output_type": "stream",
     "text": [
      "<class 'pandas.core.frame.DataFrame'>\n",
      "RangeIndex: 11827 entries, 0 to 11826\n",
      "Data columns (total 69 columns):\n",
      " #   Column            Non-Null Count  Dtype \n",
      "---  ------            --------------  ----- \n",
      " 0   No.               11827 non-null  int64 \n",
      " 1   국가코드              11827 non-null  object\n",
      " 2   발명의 명칭            11827 non-null  object\n",
      " 3   요약                11827 non-null  object\n",
      " 4   독립항               11827 non-null  object\n",
      " 5   출원인               11827 non-null  object\n",
      " 6   발명자               11827 non-null  object\n",
      " 7   문헌종류 코드           11827 non-null  object\n",
      " 8   출원번호              11827 non-null  object\n",
      " 9   출원일               11827 non-null  object\n",
      " 10  등록번호              11827 non-null  object\n",
      " 11  메인 IPC            11827 non-null  object\n",
      " 12  우선권 국가            11827 non-null  object\n",
      " 13  우선권 번호            11827 non-null  object\n",
      " 14  우선권 주장일           11827 non-null  object\n",
      " 15  특허/실용구분           11827 non-null  object\n",
      " 16  대표청구항             11827 non-null  object\n",
      " 17  요약(원문)            11827 non-null  object\n",
      " 18  청구항 수             11827 non-null  object\n",
      " 19  법적상태              11827 non-null  object\n",
      " 20  심사청구여부(KR,JP,EP)  11827 non-null  object\n",
      " 21  심사진행상태            11827 non-null  object\n",
      " 22  출원인 국적            11827 non-null  object\n",
      " 23  현재권리자             11827 non-null  object\n",
      " 24  현재권리자 국적          11827 non-null  object\n",
      " 25  발명자(원문)           11827 non-null  object\n",
      " 26  발명자 국적            11827 non-null  object\n",
      " 27  대리인               11827 non-null  object\n",
      " 28  공개번호              11827 non-null  object\n",
      " 29  공개일               11827 non-null  object\n",
      " 30  등록일               11827 non-null  object\n",
      " 31  심사청구일(KR,JP,EP)   11827 non-null  object\n",
      " 32  존속기간 만료일          11827 non-null  object\n",
      " 33  원출원번호             11827 non-null  object\n",
      " 34  원출원일자             11827 non-null  object\n",
      " 35  공개/등록번호           11827 non-null  object\n",
      " 36  공개/등록일자           11827 non-null  object\n",
      " 37  전체 IPC            11827 non-null  object\n",
      " 38  메인 CPC            11827 non-null  object\n",
      " 39  전체 CPC            11827 non-null  object\n",
      " 40  FI (File Index)   11827 non-null  object\n",
      " 41  메인 US Class       11827 non-null  object\n",
      " 42  전체 US Class       11827 non-null  object\n",
      " 43  테마코드(JP)          11827 non-null  object\n",
      " 44  F-Term(JP)        11827 non-null  object\n",
      " 45  최우선일              11827 non-null  object\n",
      " 46  국제출원번호            11827 non-null  object\n",
      " 47  국제출원일             11827 non-null  object\n",
      " 48  국제공개번호            11827 non-null  object\n",
      " 49  국제공개일             11827 non-null  object\n",
      " 50  번역문제출일(KR)        11827 non-null  object\n",
      " 51  인용문헌번호            11827 non-null  object\n",
      " 52  인용문헌수             11827 non-null  object\n",
      " 53  국가별 인용문헌수         11827 non-null  object\n",
      " 54  인용문헌국가            11827 non-null  object\n",
      " 55  자국인용문헌번호          11827 non-null  object\n",
      " 56  심사관인용문헌(KR,US)    11827 non-null  object\n",
      " 57  피인용문헌번호           11827 non-null  object\n",
      " 58  피인용문헌수            11827 non-null  object\n",
      " 59  국가별 피인용문헌수        11827 non-null  object\n",
      " 60  피인용문헌국가           11827 non-null  object\n",
      " 61  패밀리 국가수           11827 non-null  object\n",
      " 62  패밀리 문헌수           11827 non-null  object\n",
      " 63  패밀리 문헌번호          11827 non-null  object\n",
      " 64  패밀리 국가별 문헌수       11827 non-null  object\n",
      " 65  EPO심플패밀리 문헌번호     11827 non-null  object\n",
      " 66  EPO심플패밀리 문헌수      11827 non-null  object\n",
      " 67  EPO심플패밀리 국가별 문헌수  11827 non-null  object\n",
      " 68  명사                11827 non-null  object\n",
      "dtypes: int64(1), object(68)\n",
      "memory usage: 6.2+ MB\n"
     ]
    }
   ],
   "source": [
    "cpuData.info()"
   ]
  },
  {
   "cell_type": "code",
   "execution_count": 21,
   "metadata": {},
   "outputs": [
    {
     "name": "stdout",
     "output_type": "stream",
     "text": [
      "\n",
      "INSTALLED VERSIONS\n",
      "------------------\n",
      "commit           : None\n",
      "python           : 3.7.7.final.0\n",
      "python-bits      : 64\n",
      "OS               : Windows\n",
      "OS-release       : 10\n",
      "machine          : AMD64\n",
      "processor        : Intel64 Family 6 Model 158 Stepping 10, GenuineIntel\n",
      "byteorder        : little\n",
      "LC_ALL           : None\n",
      "LANG             : None\n",
      "LOCALE           : None.None\n",
      "\n",
      "pandas           : 1.0.4\n",
      "numpy            : 1.18.1\n",
      "pytz             : 2020.1\n",
      "dateutil         : 2.8.1\n",
      "pip              : 20.1.1\n",
      "setuptools       : 47.3.0.post20200616\n",
      "Cython           : None\n",
      "pytest           : None\n",
      "hypothesis       : None\n",
      "sphinx           : None\n",
      "blosc            : None\n",
      "feather          : None\n",
      "xlsxwriter       : None\n",
      "lxml.etree       : None\n",
      "html5lib         : None\n",
      "pymysql          : None\n",
      "psycopg2         : None\n",
      "jinja2           : 2.11.2\n",
      "IPython          : 7.15.0\n",
      "pandas_datareader: None\n",
      "bs4              : None\n",
      "bottleneck       : None\n",
      "fastparquet      : None\n",
      "gcsfs            : None\n",
      "lxml.etree       : None\n",
      "matplotlib       : 3.2.1\n",
      "numexpr          : None\n",
      "odfpy            : None\n",
      "openpyxl         : None\n",
      "pandas_gbq       : None\n",
      "pyarrow          : None\n",
      "pytables         : None\n",
      "pytest           : None\n",
      "pyxlsb           : None\n",
      "s3fs             : None\n",
      "scipy            : None\n",
      "sqlalchemy       : None\n",
      "tables           : None\n",
      "tabulate         : None\n",
      "xarray           : None\n",
      "xlrd             : 1.2.0\n",
      "xlwt             : None\n",
      "xlsxwriter       : None\n",
      "numba            : None\n"
     ]
    }
   ],
   "source": [
    "pd.show_versions()"
   ]
  },
  {
   "cell_type": "code",
   "execution_count": 24,
   "metadata": {},
   "outputs": [
    {
     "ename": "AttributeError",
     "evalue": "module 'matplotlib.pyplot' has no attribute '__version__'",
     "output_type": "error",
     "traceback": [
      "\u001b[1;31m---------------------------------------------------------------------------\u001b[0m",
      "\u001b[1;31mAttributeError\u001b[0m                            Traceback (most recent call last)",
      "\u001b[1;32m<ipython-input-24-258ef2d68aad>\u001b[0m in \u001b[0;36m<module>\u001b[1;34m\u001b[0m\n\u001b[1;32m----> 1\u001b[1;33m \u001b[0mplt\u001b[0m\u001b[1;33m.\u001b[0m\u001b[0m__version__\u001b[0m\u001b[1;33m\u001b[0m\u001b[1;33m\u001b[0m\u001b[0m\n\u001b[0m",
      "\u001b[1;31mAttributeError\u001b[0m: module 'matplotlib.pyplot' has no attribute '__version__'"
     ]
    }
   ],
   "source": [
    "plt.__version__"
   ]
  },
  {
   "cell_type": "code",
   "execution_count": null,
   "metadata": {},
   "outputs": [],
   "source": []
  }
 ],
 "metadata": {
  "kernelspec": {
   "display_name": "Python 3",
   "language": "python",
   "name": "python3"
  },
  "language_info": {
   "codemirror_mode": {
    "name": "ipython",
    "version": 3
   },
   "file_extension": ".py",
   "mimetype": "text/x-python",
   "name": "python",
   "nbconvert_exporter": "python",
   "pygments_lexer": "ipython3",
   "version": "3.7.7"
  }
 },
 "nbformat": 4,
 "nbformat_minor": 2
}
