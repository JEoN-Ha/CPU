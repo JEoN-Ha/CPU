{
 "metadata": {
  "language_info": {
   "codemirror_mode": {
    "name": "ipython",
    "version": 3
   },
   "file_extension": ".py",
   "mimetype": "text/x-python",
   "name": "python",
   "nbconvert_exporter": "python",
   "pygments_lexer": "ipython3",
   "version": 3
  },
  "orig_nbformat": 2,
  "kernelspec": {
   "name": "python_defaultSpec_1596631111048",
   "display_name": "Python 3.7.7 64-bit ('cpuData': conda)"
  }
 },
 "nbformat": 4,
 "nbformat_minor": 2,
 "cells": [
  {
   "cell_type": "code",
   "execution_count": 1,
   "metadata": {},
   "outputs": [],
   "source": [
    "import numpy as numpy\n",
    "import pandas as pd\n",
    "import matplotlib.pyplot as plt\n",
    "%matplotlib inline\n",
    "\n",
    "from konlpy.tag import Kkma\n",
    "import re\n",
    "from wordcloud import WordCloud\n",
    "from wordcloud import STOPWORDS\n",
    "import nltk"
   ]
  },
  {
   "cell_type": "code",
   "execution_count": 2,
   "metadata": {},
   "outputs": [],
   "source": [
    "cpuData = pd.read_excel('./excel/cpuValidData.xlsx',  encoding = 'CP949')"
   ]
  },
  {
   "cell_type": "code",
   "execution_count": 6,
   "metadata": {},
   "outputs": [],
   "source": [
    "for i in range(len(cpuData['대표청구항'])):\n",
    "    cpuData['대표청구항'][i] = cpuData['대표청구항'][i][9:]\n",
    "# cpuData['대표청구항']"
   ]
  },
  {
   "cell_type": "code",
   "execution_count": 9,
   "metadata": {},
   "outputs": [],
   "source": [
    "for i in range(len(cpuData['발명의 명칭'])):\n",
    "    cpuData['발명의 명칭'][i] = re.sub(r'\\([^)]*\\)', '', cpuData['발명의 명칭'][i])"
   ]
  },
  {
   "cell_type": "code",
   "execution_count": 11,
   "metadata": {
    "tags": []
   },
   "outputs": [
    {
     "output_type": "stream",
     "name": "stdout",
     "text": "1683 4314\n"
    }
   ],
   "source": [
    "cpuData_KR = cpuData[cpuData['국가코드'].isin(['KR']) | cpuData['국가코드'].isin(['JP'])]\n",
    "cpuData_ENG = cpuData[cpuData['국가코드'].isin(['CN']) | cpuData['국가코드'].isin(['EP']) | cpuData['국가코드'].isin(['US'])]\n",
    "print(len(cpuData_KR), len(cpuData_ENG))"
   ]
  },
  {
   "cell_type": "code",
   "execution_count": 12,
   "metadata": {},
   "outputs": [],
   "source": [
    "cpuData_KR['kkk'] = cpuData_KR['발명의 명칭'] + ' ' + cpuData_KR['요약'] + cpuData_KR['대표청구항']\n",
    "# cpuData_csv['꼬꼬마'] = cpuData_csv['발명의 명칭'][:6887] + ' ' + cpuData_csv['요약'][:6887] + cpuData_csv['대표청구항'][:6887]\n",
    "# cpuData_csv['꼬꼬마'].drop(cpuData_csv['꼬꼬마'].index[6887:]) # 영어부분 삭제\n",
    "\n",
    "\n",
    "# # cpuData_csv['nltk'] = cpuData_csv['발명의 명칭'][6887:] + ' ' + cpuData_csv['요약'][6887:] + cpuData_csv['대표청구항'][6887:]\n",
    "# cpuData_csv['nltk'].drop(cpuData_csv['nltk'].index[:6887]) # 한글부분 삭제\n",
    "cpuData_ENG['nltk'] = cpuData_ENG['발명의 명칭'] + ' ' + cpuData_ENG['요약'] + cpuData_ENG['대표청구항']"
   ]
  },
  {
   "cell_type": "code",
   "execution_count": 14,
   "metadata": {},
   "outputs": [],
   "source": [
    "kkmaCPU = Kkma() # 꼬꼬마 객체\n",
    "def morph(input_data):  # pos(모든 형태소 분석)\n",
    "    preprcessed = kkmaCPU.pos(input_data)\n",
    "    # print(preprcessed)\n",
    "    return preprcessed\n",
    "\n",
    "def get_wordData_KR(morpheme_pos):\n",
    "    # words = [s for s, t in morpheme]\n",
    "    # tags = [t for s, t in morpheme]\n",
    "    wordData = []\n",
    "    for words, tags in morpheme_pos:\n",
    "        #if (tags == 'NNG') or (tags == 'NNP') or (tags == 'OL'):\n",
    "        if ((\"NN\") or (\"OL\")) in tags:\n",
    "            wordData.append(words) # NNG, NNP, OL만 뽑음\n",
    "\n",
    "    return wordData\n",
    "\n",
    "def get_wordData_ENG(morpheme_pos):\n",
    "    # words = [s for s, t in morpheme]\n",
    "    # tags = [t for s, t in morpheme]\n",
    "    wordData = []\n",
    "    for words, tags in morpheme_pos:\n",
    "        #if (tags == 'NNG') or (tags == 'NNP') or (tags == 'OL'):\n",
    "        if ((\"NN\")) in tags:\n",
    "            wordData.append(words) # NNG, NNP, OL만 뽑음\n",
    "\n",
    "    return wordData"
   ]
  },
  {
   "cell_type": "code",
   "execution_count": 15,
   "metadata": {
    "tags": []
   },
   "outputs": [
    {
     "output_type": "stream",
     "name": "stderr",
     "text": "[nltk_data] Downloading package punkt to\n[nltk_data]     C:\\Users\\Assistant_2\\AppData\\Roaming\\nltk_data...\n[nltk_data]   Package punkt is already up-to-date!\nWall time: 1min 14s\n"
    }
   ],
   "source": [
    "%%time\n",
    "\n",
    "# 영어 형태소 분석\n",
    "\n",
    "nltk.download('punkt')\n",
    "morph_ENG = [nltk.pos_tag(nltk.word_tokenize(x)) for x in cpuData_ENG['nltk'].values]\n",
    "wordMaterialList_ENG = [get_wordData_ENG(ee) for ee in morph_ENG]\n",
    "\n",
    "# nltk.download('punkt')\n",
    "# morpheme_nltk_tokens = nltk.word_tokenize(str(cpuData_ENG['nltk'].values)[2:-3])\n",
    "# morpheme_nltk = nltk.pos_tag(morpheme_nltk_tokens)\n",
    "\n",
    "# # nltk.download('tagsets')\n",
    "# wordMaterialList_ENG = get_wordData_ENG(morpheme_nltk)"
   ]
  },
  {
   "cell_type": "code",
   "execution_count": 17,
   "metadata": {
    "tags": []
   },
   "outputs": [
    {
     "output_type": "stream",
     "name": "stdout",
     "text": "Wall time: 10min 28s\n"
    }
   ],
   "source": [
    "%%time\n",
    "# # 한글 형태소 분석\n",
    "morph_KR = [morph(x) for x in cpuData_KR['kkk'].values]\n",
    "wordMaterialList_KR = [get_wordData_KR(kk) for kk in morph_KR]\n",
    "\n",
    "# morph(cpuData_KR['꼬꼬마'].values[0])\n",
    "# t = map(lambda x: morph(x), list(cpuData_KR['꼬꼬마'].values))\n",
    "# print(list(t))\n",
    "\n",
    "# %%time\n",
    "\n",
    "\n",
    "# morpheme_kkma = morph(str(cpuData_KR['꼬꼬마'].values)[2:-3])\n",
    "# wordMaterialList_KR = get_wordData_KR(morpheme_kkma)"
   ]
  },
  {
   "cell_type": "code",
   "execution_count": 20,
   "metadata": {},
   "outputs": [],
   "source": [
    "df_ENG = pd.DataFrame.from_records(wordMaterialList_ENG)\n",
    "df_ENG.to_csv('./filtering_version/nounENG_csv.csv')\n",
    "df_ENG.to_excel('./filtering_version/nounENG_excel.xlsx')"
   ]
  },
  {
   "cell_type": "code",
   "execution_count": 19,
   "metadata": {},
   "outputs": [],
   "source": [
    "df_KR = pd.DataFrame.from_records(wordMaterialList_KR)\n",
    "df_KR.to_csv('./filtering_version/nounKR_csv.csv')\n",
    "df_KR.to_excel('./filtering_version/nounKR_excel.xlsx')"
   ]
  },
  {
   "cell_type": "code",
   "execution_count": null,
   "metadata": {},
   "outputs": [],
   "source": []
  }
 ]
}