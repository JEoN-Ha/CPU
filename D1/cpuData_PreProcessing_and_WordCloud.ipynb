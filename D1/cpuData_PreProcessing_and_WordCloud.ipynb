{
 "cells": [
  {
   "cell_type": "code",
   "execution_count": 1,
   "metadata": {},
   "outputs": [],
   "source": [
    "import numpy as numpy\n",
    "import pandas as pd\n",
    "import matplotlib.pyplot as plt\n",
    "%matplotlib inline\n",
    "\n",
    "from tqdm import tqdm # 이제 필요없음\n",
    "from konlpy.tag import Kkma\n",
    "import re\n",
    "from wordcloud import WordCloud\n",
    "from wordcloud import STOPWORDS\n",
    "import nltk\n",
    "from sklearn.feature_extraction.text import TfidfVectorizer"
   ]
  },
  {
   "cell_type": "code",
   "execution_count": 2,
   "metadata": {},
   "outputs": [],
   "source": [
    "cpuData_csv = pd.read_csv('./cpuDataSet.csv',  encoding = 'CP949')"
   ]
  },
  {
   "cell_type": "code",
   "execution_count": 3,
   "metadata": {},
   "outputs": [
    {
     "output_type": "execute_result",
     "data": {
      "text/plain": "0        Iot를 기반 스마트 센서를 포함하는 환자 상태 실시간 정보 전송 시스템(real-...\n1        7세주기 기반의 피부관리 카운셀링 시스템(skincare counselling sy...\n2        의료 중재 레벨을 원격으로 판단하기 위한 방법 및 시스템(methods and sy...\n3        사용자의 행동 분류 방법 및 장치(method and apparatus for cl...\n4        신축성 저항 소자를 이용한 자세 모니터링 장치, 이를 이용한 자세 모니터링 방법 및...\n                               ...                        \n11822             Methods and devices for relieving stress\n11823    Digital remote radio electrocardiographic moni...\n11824    Managing system and managing method of organis...\n11825               Life evidence sensing-reporting module\n11826    Diagnostic radio frequency identification sens...\nName: 제목, Length: 11827, dtype: object"
     },
     "metadata": {},
     "execution_count": 3
    }
   ],
   "source": [
    "cpuData_csv['제목'] = cpuData_csv['발명의 명칭']\n",
    "cpuData_csv['제목']"
   ]
  },
  {
   "cell_type": "code",
   "execution_count": 4,
   "metadata": {},
   "outputs": [],
   "source": [
    "for i in range(len(cpuData_csv['대표청구항'])):\n",
    "    cpuData_csv['대표청구항'][i] = cpuData_csv['대표청구항'][i][9:]\n",
    "# cpuData_csv['대표청구항']"
   ]
  },
  {
   "cell_type": "code",
   "execution_count": 5,
   "metadata": {
    "tags": []
   },
   "outputs": [],
   "source": [
    "for i in range(len(cpuData_csv['발명의 명칭'])):\n",
    "    cpuData_csv['발명의 명칭'][i] = re.sub(r'\\([^)]*\\)', '', cpuData_csv['발명의 명칭'][i])"
   ]
  },
  {
   "cell_type": "code",
   "execution_count": 6,
   "metadata": {},
   "outputs": [
    {
     "output_type": "execute_result",
     "data": {
      "text/plain": "0                Iot를 기반 스마트 센서를 포함하는 환자 상태 실시간 정보 전송 시스템\n1                                  7세주기 기반의 피부관리 카운셀링 시스템\n2                         의료 중재 레벨을 원격으로 판단하기 위한 방법 및 시스템\n3                                      사용자의 행동 분류 방법 및 장치\n4       신축성 저항 소자를 이용한 자세 모니터링 장치, 이를 이용한 자세 모니터링 방법 및...\n                              ...                        \n6882                         진행된 환자 관리와 약물 치료 관리의 시스템과 방법\n6883                                 건강 관리 장치 및 건강 관리 시스템\n6884                               진단 무선 주파수 식별 센서 및 그 적용\n6885                        개인 인증 장치, 정보처리 장치 및 개인 인증 시스템\n6886                              에어 밸브, 전자 혈압계 및 에어 마사지기\nName: 발명의 명칭, Length: 2388, dtype: object"
     },
     "metadata": {},
     "execution_count": 6
    }
   ],
   "source": [
    "cpuData_KR = cpuData_csv[cpuData_csv['국가코드'].isin(['KR']) | cpuData_csv['국가코드'].isin(['JP'])]\n",
    "cpuData_ENG = cpuData_csv[cpuData_csv['국가코드'].isin(['CN']) | cpuData_csv['국가코드'].isin(['EP']) | cpuData_csv['국가코드'].isin(['US'])]\n",
    "cpuData_KR['발명의 명칭']"
   ]
  },
  {
   "cell_type": "code",
   "execution_count": 7,
   "metadata": {},
   "outputs": [],
   "source": [
    "cpuData_KR['꼬꼬마'] = cpuData_KR['발명의 명칭'] + ' ' + cpuData_KR['요약'] + cpuData_KR['대표청구항']\n",
    "# cpuData_csv['꼬꼬마'] = cpuData_csv['발명의 명칭'][:6887] + ' ' + cpuData_csv['요약'][:6887] + cpuData_csv['대표청구항'][:6887]\n",
    "# cpuData_csv['꼬꼬마'].drop(cpuData_csv['꼬꼬마'].index[6887:]) # 영어부분 삭제\n",
    "\n",
    "\n",
    "# # cpuData_csv['nltk'] = cpuData_csv['발명의 명칭'][6887:] + ' ' + cpuData_csv['요약'][6887:] + cpuData_csv['대표청구항'][6887:]\n",
    "# cpuData_csv['nltk'].drop(cpuData_csv['nltk'].index[:6887]) # 한글부분 삭제\n",
    "cpuData_ENG['nltk'] = cpuData_ENG['발명의 명칭'] + ' ' + cpuData_ENG['요약'] + cpuData_ENG['대표청구항']"
   ]
  },
  {
   "cell_type": "code",
   "execution_count": 8,
   "metadata": {},
   "outputs": [],
   "source": [
    "kkmaCPU = Kkma() # 꼬꼬마 객체\n",
    "def morph(input_data):  # pos(모든 형태소 분석)\n",
    "    preprcessed = kkmaCPU.pos(input_data)\n",
    "    # print(preprcessed)\n",
    "    return preprcessed"
   ]
  },
  {
   "cell_type": "code",
   "execution_count": 9,
   "metadata": {},
   "outputs": [],
   "source": [
    "def get_wordData_KR(morpheme_pos):\n",
    "    # words = [s for s, t in morpheme]\n",
    "    # tags = [t for s, t in morpheme]\n",
    "    wordData = []\n",
    "    for words, tags in morpheme_pos:\n",
    "        #if (tags == 'NNG') or (tags == 'NNP') or (tags == 'OL'):\n",
    "        if ((\"NN\") or (\"OL\")) in tags:\n",
    "            wordData.append(words) # NNG, NNP, OL만 뽑음\n",
    "    \n",
    "    return wordData"
   ]
  },
  {
   "cell_type": "code",
   "execution_count": 10,
   "metadata": {},
   "outputs": [],
   "source": [
    "def get_wordData_ENG(morpheme_pos):\n",
    "    # words = [s for s, t in morpheme]\n",
    "    # tags = [t for s, t in morpheme]\n",
    "    wordData = []\n",
    "    for words, tags in morpheme_pos:\n",
    "        #if (tags == 'NNG') or (tags == 'NNP') or (tags == 'OL'):\n",
    "        if ((\"NN\")) in tags:\n",
    "            wordData.append(words) # NNG, NNP, OL만 뽑음\n",
    "    \n",
    "    return wordData"
   ]
  },
  {
   "cell_type": "code",
   "execution_count": 11,
   "metadata": {
    "tags": []
   },
   "outputs": [
    {
     "output_type": "stream",
     "name": "stdout",
     "text": "Wall time: 12min 22s\n"
    }
   ],
   "source": [
    "%%time\n",
    "# # 한글 형태소 분석\n",
    "morph_KR = [morph(x) for x in cpuData_KR['꼬꼬마'].values]\n",
    "wordMaterialList_KR = [get_wordData_KR(kk) for kk in morph_KR]\n",
    "\n",
    "# morph(cpuData_KR['꼬꼬마'].values[0])\n",
    "# t = map(lambda x: morph(x), list(cpuData_KR['꼬꼬마'].values))\n",
    "# print(list(t))\n",
    "\n",
    "# %%time\n",
    "\n",
    "\n",
    "# morpheme_kkma = morph(str(cpuData_KR['꼬꼬마'].values)[2:-3])\n",
    "# wordMaterialList_KR = get_wordData_KR(morpheme_kkma)"
   ]
  },
  {
   "cell_type": "code",
   "execution_count": 17,
   "metadata": {},
   "outputs": [],
   "source": [
    "df_KR = pd.DataFrame.from_records(wordMaterialList_KR)\n",
    "df_KR.to_excel('NN_KR.xlsx')"
   ]
  },
  {
   "cell_type": "code",
   "execution_count": 30,
   "metadata": {
    "tags": []
   },
   "outputs": [
    {
     "output_type": "stream",
     "name": "stderr",
     "text": "[nltk_data] Downloading package punkt to\n[nltk_data]     C:\\Users\\Assistant_2\\AppData\\Roaming\\nltk_data...\n[nltk_data]   Package punkt is already up-to-date!\nWall time: 2min 44s\n"
    }
   ],
   "source": [
    "%%time\n",
    "\n",
    "# 영어 형태소 분석\n",
    "\n",
    "nltk.download('punkt')\n",
    "morph_ENG = [nltk.pos_tag(nltk.word_tokenize(x)) for x in cpuData_ENG['nltk'].values]\n",
    "wordMaterialList_ENG = [get_wordData_ENG(ee) for ee in morph_ENG]\n",
    "\n",
    "# nltk.download('punkt')\n",
    "# morpheme_nltk_tokens = nltk.word_tokenize(str(cpuData_ENG['nltk'].values)[2:-3])\n",
    "# morpheme_nltk = nltk.pos_tag(morpheme_nltk_tokens)\n",
    "\n",
    "# # nltk.download('tagsets')\n",
    "# wordMaterialList_ENG = get_wordData_ENG(morpheme_nltk)"
   ]
  },
  {
   "cell_type": "code",
   "execution_count": 33,
   "metadata": {},
   "outputs": [],
   "source": [
    "df_ENG = pd.DataFrame.from_records(wordMaterialList_ENG)\n",
    "df_ENG.to_excel('NN_ENG.xlsx')"
   ]
  },
  {
   "cell_type": "code",
   "execution_count": null,
   "metadata": {
    "tags": []
   },
   "outputs": [],
   "source": [
    "# morpheme_nltk\n",
    "# str(cpuData_KR['꼬꼬마'].values)[2:-3]\n",
    "# str(cpuData_ENG['nltk'].values)[2:-3]\n",
    "text_test = [\n",
    "    'you know I want your love',\n",
    "    'I like you',\n",
    "    'what should I do ',    \n",
    "]\n",
    "tf_idf_test = TfidfVectorizer().fit(text_test)\n",
    "print(tf_idf_test.transform(text_test).toarray())\n",
    "print(tf_idf_test.vocabulary_)\n",
    "# tf_idf_kr = TfidfVectorizer().fit(list(cpuData_KR['꼬꼬마']))#max_features = 100, max_df = 0.95, min_df = 0)\n",
    "# print(tf_idf_kr.transform(list(cpuData_KR['꼬꼬마'])).toarray())\n",
    "# print(tf_idf_kr.get_feature_names())"
   ]
  },
  {
   "cell_type": "code",
   "execution_count": null,
   "metadata": {},
   "outputs": [],
   "source": [
    "def changeText(wordList):\n",
    "    wordStr = '시작'\n",
    "    for word in wordList:\n",
    "        wordStr = wordStr + ' ' + word\n",
    "    wordStr = wordStr[3:]\n",
    "    return wordStr\n",
    "\n",
    "wordMaterialStr_KR = changeText(wordMaterialList_KR)\n",
    "wordMaterialStr_ENG = changeText(wordMaterialList_ENG)"
   ]
  },
  {
   "cell_type": "code",
   "execution_count": null,
   "metadata": {},
   "outputs": [],
   "source": [
    "stopwords = set(STOPWORDS)\n",
    "\n",
    "# 한국어 워드클라우드\n",
    "wordcloudObject_KR = WordCloud(\n",
    "    font_path='C:/Windows/Fonts/malgun.ttf',\n",
    "    background_color='white',\n",
    "    stopwords=stopwords).generate(wordMaterialStr_KR)\n",
    "                # 맑음 폰트, 배경 하얀색, 불용어 => stopwords\n",
    "\n",
    "# 영어 워드클라우드\n",
    "wordcloudObject_ENG = WordCloud(\n",
    "    background_color='white',\n",
    "    stopwords=stopwords).generate(wordMaterialStr_ENG)"
   ]
  },
  {
   "cell_type": "code",
   "execution_count": null,
   "metadata": {},
   "outputs": [],
   "source": [
    "plt.figure(figsize=(20,20))\n",
    "plt.imshow(wordcloudObject_KR, interpolation='None')\n",
    "plt.axis('off')\n",
    "plt.show()\n",
    "# plt.savefig() # 저장\n"
   ]
  },
  {
   "cell_type": "code",
   "execution_count": null,
   "metadata": {},
   "outputs": [],
   "source": [
    "plt.figure(figsize=(20,20))\n",
    "plt.imshow(wordcloudObject_ENG, interpolation='None')\n",
    "plt.axis('off')\n",
    "plt.show()"
   ]
  },
  {
   "cell_type": "code",
   "execution_count": null,
   "metadata": {},
   "outputs": [],
   "source": []
  },
  {
   "cell_type": "code",
   "execution_count": null,
   "metadata": {},
   "outputs": [],
   "source": []
  }
 ],
 "metadata": {
  "kernelspec": {
   "display_name": "Python 3",
   "language": "python",
   "name": "python3"
  },
  "language_info": {
   "codemirror_mode": {
    "name": "ipython",
    "version": 3
   },
   "file_extension": ".py",
   "mimetype": "text/x-python",
   "name": "python",
   "nbconvert_exporter": "python",
   "pygments_lexer": "ipython3",
   "version": "3.7.7"
  }
 },
 "nbformat": 4,
 "nbformat_minor": 2
}